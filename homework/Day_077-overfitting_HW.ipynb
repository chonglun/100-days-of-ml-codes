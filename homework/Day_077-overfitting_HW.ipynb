{
 "cells": [
  {
   "cell_type": "markdown",
   "metadata": {},
   "source": [
    "## Work\n",
    "1. 請將 Epoch 加到 500 個，並觀察 learning curve 的走勢\n",
    "2. 請將 Optimizer 換成 SGD，並觀察 learning curve 的走勢"
   ]
  },
  {
   "cell_type": "code",
   "execution_count": 1,
   "metadata": {},
   "outputs": [
    {
     "name": "stderr",
     "output_type": "stream",
     "text": [
      "Using TensorFlow backend.\n"
     ]
    }
   ],
   "source": [
    "import os\n",
    "import keras\n",
    "from keras.models import Sequential, load_model\n",
    "from keras.layers import Dense, Dropout, Activation, Flatten, BatchNormalization\n",
    "from keras.layers import Conv2D, MaxPooling2D\n",
    "from keras.callbacks import EarlyStopping\n",
    "from keras.callbacks import ModelCheckpoint\n",
    "\n",
    "# 本作業可以不需使用 GPU, 將 GPU 設定為 \"無\" (若有 GPU 且想開啟，可設為 \"0\")\n",
    "# os.environ[\"CUDA_VISIBLE_DEVICES\"] = \"\""
   ]
  },
  {
   "cell_type": "code",
   "execution_count": 2,
   "metadata": {},
   "outputs": [],
   "source": [
    "num_classes = 10\n",
    "batch_size = 256\n",
    "epochs = 50\n",
    "\n",
    "# 從 Keras 的內建功能中，取得 train 與 test 資料集\n",
    "train, test = keras.datasets.cifar10.load_data()"
   ]
  },
  {
   "cell_type": "code",
   "execution_count": 3,
   "metadata": {},
   "outputs": [],
   "source": [
    "# 將 X 與 Y 獨立放進變數\n",
    "x_train, y_train = train\n",
    "x_test, y_test = test\n",
    "# 資料前處理 - 標準化\n",
    "x_train = x_train / 255.\n",
    "x_test = x_test / 255.\n",
    "\n",
    "# 將資料從圖形 (RGB) 轉為向量 (Single Vector)\n",
    "x_train = x_train.reshape((len(x_train), -1))\n",
    "x_test = x_test.reshape((len(x_test), -1))\n",
    "\n",
    "# 將目標轉為 one-hot encoding\n",
    "y_train = keras.utils.to_categorical(y_train, num_classes=10)\n",
    "y_test = keras.utils.to_categorical(y_test, num_classes=10)"
   ]
  },
  {
   "cell_type": "code",
   "execution_count": 4,
   "metadata": {},
   "outputs": [
    {
     "name": "stdout",
     "output_type": "stream",
     "text": [
      "_________________________________________________________________\n",
      "Layer (type)                 Output Shape              Param #   \n",
      "=================================================================\n",
      "input_1 (InputLayer)         (None, 3072)              0         \n",
      "_________________________________________________________________\n",
      "dense_1 (Dense)              (None, 1024)              3146752   \n",
      "_________________________________________________________________\n",
      "dense_2 (Dense)              (None, 512)               524800    \n",
      "_________________________________________________________________\n",
      "dense_3 (Dense)              (None, 256)               131328    \n",
      "_________________________________________________________________\n",
      "dense_4 (Dense)              (None, 128)               32896     \n",
      "_________________________________________________________________\n",
      "dense_5 (Dense)              (None, 10)                1290      \n",
      "=================================================================\n",
      "Total params: 3,837,066\n",
      "Trainable params: 3,837,066\n",
      "Non-trainable params: 0\n",
      "_________________________________________________________________\n",
      "None\n"
     ]
    }
   ],
   "source": [
    "def build_mlp():\n",
    "    input_layer = keras.layers.Input([x_train.shape[-1]])\n",
    "    x = keras.layers.Dense(units=1024, activation=\"relu\")(input_layer)\n",
    "    x = keras.layers.Dense(units=512, activation=\"relu\")(x)\n",
    "    x = keras.layers.Dense(units=256, activation=\"relu\")(x)\n",
    "    x = keras.layers.Dense(units=128, activation=\"relu\")(x)\n",
    "    out = keras.layers.Dense(units=num_classes, activation=\"softmax\")(x)\n",
    "    \n",
    "    model = keras.models.Model(inputs=[input_layer], outputs=[out])\n",
    "    \n",
    "    print(model.summary())\n",
    "    return model\n",
    "\n",
    "model = build_mlp()"
   ]
  },
  {
   "cell_type": "code",
   "execution_count": 5,
   "metadata": {},
   "outputs": [],
   "source": [
    "\"\"\"\n",
    "Compile 模型\n",
    "\"\"\"\n",
    "optimizer = keras.optimizers.Adam(lr=0.001)\n",
    "model.compile(loss=\"categorical_crossentropy\", metrics=[\"accuracy\"], optimizer=optimizer)"
   ]
  },
  {
   "cell_type": "code",
   "execution_count": 6,
   "metadata": {
    "scrolled": true
   },
   "outputs": [
    {
     "name": "stdout",
     "output_type": "stream",
     "text": [
      "Train on 50000 samples, validate on 10000 samples\n",
      "Epoch 1/50\n",
      "50000/50000 [==============================] - 2s 47us/step - loss: 1.9302 - acc: 0.2983 - val_loss: 1.7906 - val_acc: 0.3498\n",
      "\n",
      "Epoch 00001: val_acc improved from -inf to 0.34980, saving model to best_model.h5\n",
      "Epoch 2/50\n",
      "50000/50000 [==============================] - 1s 22us/step - loss: 1.7114 - acc: 0.3837 - val_loss: 1.6720 - val_acc: 0.3939\n",
      "\n",
      "Epoch 00002: val_acc improved from 0.34980 to 0.39390, saving model to best_model.h5\n",
      "Epoch 3/50\n",
      "50000/50000 [==============================] - 1s 27us/step - loss: 1.6130 - acc: 0.4228 - val_loss: 1.5887 - val_acc: 0.4380\n",
      "\n",
      "Epoch 00003: val_acc improved from 0.39390 to 0.43800, saving model to best_model.h5\n",
      "Epoch 4/50\n",
      "50000/50000 [==============================] - 1s 24us/step - loss: 1.5506 - acc: 0.4454 - val_loss: 1.5025 - val_acc: 0.4619\n",
      "\n",
      "Epoch 00004: val_acc improved from 0.43800 to 0.46190, saving model to best_model.h5\n",
      "Epoch 5/50\n",
      "50000/50000 [==============================] - 1s 23us/step - loss: 1.4991 - acc: 0.4610 - val_loss: 1.4819 - val_acc: 0.4770\n",
      "\n",
      "Epoch 00005: val_acc improved from 0.46190 to 0.47700, saving model to best_model.h5\n",
      "Epoch 6/50\n",
      "50000/50000 [==============================] - 1s 29us/step - loss: 1.4607 - acc: 0.4783 - val_loss: 1.4861 - val_acc: 0.4714\n",
      "\n",
      "Epoch 00006: val_acc did not improve from 0.47700\n",
      "Epoch 7/50\n",
      "50000/50000 [==============================] - 1s 25us/step - loss: 1.4259 - acc: 0.4899 - val_loss: 1.4579 - val_acc: 0.4790\n",
      "\n",
      "Epoch 00007: val_acc improved from 0.47700 to 0.47900, saving model to best_model.h5\n",
      "Epoch 8/50\n",
      "50000/50000 [==============================] - 1s 21us/step - loss: 1.3909 - acc: 0.5031 - val_loss: 1.5101 - val_acc: 0.4725\n",
      "\n",
      "Epoch 00008: val_acc did not improve from 0.47900\n",
      "Epoch 9/50\n",
      "50000/50000 [==============================] - 1s 18us/step - loss: 1.3587 - acc: 0.5117 - val_loss: 1.4128 - val_acc: 0.4987\n",
      "\n",
      "Epoch 00009: val_acc improved from 0.47900 to 0.49870, saving model to best_model.h5\n",
      "Epoch 10/50\n",
      "50000/50000 [==============================] - 1s 19us/step - loss: 1.3256 - acc: 0.5261 - val_loss: 1.4261 - val_acc: 0.4920\n",
      "\n",
      "Epoch 00010: val_acc did not improve from 0.49870\n",
      "Epoch 11/50\n",
      "50000/50000 [==============================] - 1s 27us/step - loss: 1.2900 - acc: 0.5371 - val_loss: 1.3906 - val_acc: 0.5105\n",
      "\n",
      "Epoch 00011: val_acc improved from 0.49870 to 0.51050, saving model to best_model.h5\n",
      "Epoch 12/50\n",
      "50000/50000 [==============================] - 1s 22us/step - loss: 1.2660 - acc: 0.5452 - val_loss: 1.3692 - val_acc: 0.5135\n",
      "\n",
      "Epoch 00012: val_acc improved from 0.51050 to 0.51350, saving model to best_model.h5\n",
      "Epoch 13/50\n",
      "50000/50000 [==============================] - 1s 23us/step - loss: 1.2303 - acc: 0.5603 - val_loss: 1.3616 - val_acc: 0.5171\n",
      "\n",
      "Epoch 00013: val_acc improved from 0.51350 to 0.51710, saving model to best_model.h5\n",
      "Epoch 14/50\n",
      "50000/50000 [==============================] - 1s 26us/step - loss: 1.2062 - acc: 0.5693 - val_loss: 1.3905 - val_acc: 0.5106\n",
      "\n",
      "Epoch 00014: val_acc did not improve from 0.51710\n",
      "Epoch 15/50\n",
      "50000/50000 [==============================] - 1s 30us/step - loss: 1.1898 - acc: 0.5754 - val_loss: 1.3611 - val_acc: 0.5161\n",
      "\n",
      "Epoch 00015: val_acc did not improve from 0.51710\n",
      "Epoch 16/50\n",
      "50000/50000 [==============================] - 2s 30us/step - loss: 1.1486 - acc: 0.5881 - val_loss: 1.4113 - val_acc: 0.5035\n",
      "\n",
      "Epoch 00016: val_acc did not improve from 0.51710\n",
      "Epoch 17/50\n",
      "50000/50000 [==============================] - 1s 25us/step - loss: 1.1258 - acc: 0.5946 - val_loss: 1.4002 - val_acc: 0.5185\n",
      "\n",
      "Epoch 00017: val_acc improved from 0.51710 to 0.51850, saving model to best_model.h5\n",
      "Epoch 18/50\n",
      "50000/50000 [==============================] - 2s 30us/step - loss: 1.0842 - acc: 0.6128 - val_loss: 1.3791 - val_acc: 0.5171\n",
      "\n",
      "Epoch 00018: val_acc did not improve from 0.51850\n",
      "Epoch 00018: early stopping\n"
     ]
    },
    {
     "data": {
      "text/plain": [
       "<keras.callbacks.History at 0x7f931bd956d8>"
      ]
     },
     "execution_count": 6,
     "metadata": {},
     "output_type": "execute_result"
    }
   ],
   "source": [
    "\"\"\"\n",
    "設定要訓練的 Epoch 數\n",
    "\"\"\"\n",
    "es = EarlyStopping(monitor='val_loss', mode='min', verbose=1, patience=3)\n",
    "mc = ModelCheckpoint('best_model.h5', monitor='val_acc', mode='max', verbose=1, save_best_only=True)\n",
    "\n",
    "\n",
    "model.fit(x_train, y_train, \n",
    "          epochs=epochs, \n",
    "          batch_size=batch_size, \n",
    "          validation_data=(x_test, y_test), \n",
    "          shuffle=True,\n",
    "          callbacks=[es,mc])"
   ]
  },
  {
   "cell_type": "code",
   "execution_count": 8,
   "metadata": {},
   "outputs": [
    {
     "data": {
      "image/png": "[encoded data removed]",
      "text/plain": [
       "<Figure size 432x288 with 1 Axes>"
      ]
     },
     "metadata": {
      "needs_background": "light"
     },
     "output_type": "display_data"
    },
    {
     "data": {
      "image/png": "[encoded data removed]",
      "text/plain": [
       "<Figure size 432x288 with 1 Axes>"
      ]
     },
     "metadata": {
      "needs_background": "light"
     },
     "output_type": "display_data"
    }
   ],
   "source": [
    "import matplotlib.pyplot as plt\n",
    "# 以視覺畫方式檢視訓練過程\n",
    "\n",
    "train_loss = model.history.history[\"loss\"]\n",
    "valid_loss = model.history.history[\"val_loss\"]\n",
    "\n",
    "train_acc = model.history.history[\"acc\"]\n",
    "valid_acc = model.history.history[\"val_acc\"]\n",
    "\n",
    "plt.plot(range(len(train_loss)), train_loss, label=\"train loss\")\n",
    "plt.plot(range(len(valid_loss)), valid_loss, label=\"valid loss\")\n",
    "plt.legend()\n",
    "plt.title(\"Loss\")\n",
    "plt.show()\n",
    "\n",
    "plt.plot(range(len(train_acc)), train_acc, label=\"train accuracy\")\n",
    "plt.plot(range(len(valid_acc)), valid_acc, label=\"valid accuracy\")\n",
    "plt.legend()\n",
    "plt.title(\"Accuracy\")\n",
    "plt.show()"
   ]
  },
  {
   "cell_type": "code",
   "execution_count": null,
   "metadata": {},
   "outputs": [],
   "source": []
  }
 ],
 "metadata": {
  "kernelspec": {
   "display_name": "Python 3",
   "language": "python",
   "name": "python3"
  },
  "language_info": {
   "codemirror_mode": {
    "name": "ipython",
    "version": 3
   },
   "file_extension": ".py",
   "mimetype": "text/x-python",
   "name": "python",
   "nbconvert_exporter": "python",
   "pygments_lexer": "ipython3",
   "version": "3.5.6"
  }
 },
 "nbformat": 4,
 "nbformat_minor": 2
}
