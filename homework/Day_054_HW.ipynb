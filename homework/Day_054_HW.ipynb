{
 "cells": [
  {
   "cell_type": "markdown",
   "metadata": {},
   "source": [
    "# 作業\n",
    "* 試著想想看, 非監督學習是否有可能使用評價函數 (Metric) 來鑑別好壞呢?  \n",
    "(Hint : 可以分為 \"有目標值\" 與 \"無目標值\" 兩個方向思考)"
   ]
  },
  {
   "cell_type": "markdown",
   "metadata": {},
   "source": [
    "# 分群模型的評估最⼤大困難\n",
    "## 與監督模型不同，非監督因為沒有⽬目標值，因此無法使⽤用⽬目標值的預估與實際差距，來來評估模型的優劣評估⽅方式類型\n",
    "- 有⽬目標值的分群:如果資料有目標值，只是先忽略目標值做非監督學習，則只要微調後，就可以使⽤原本監督的測量函數評估準確性\n",
    "- 無⽬標值的分群:但通常沒有目標值/⽬標值非常少才會⽤用非監督模型，這種情況下，只能使用資料本⾝的分布資訊，來做模型的評估。\n",
    "\n",
    "***分群演算法的績效衡量簡單明暸：組間差異大，組內差異小。而所謂的差異指的就是觀測值之間的距離遠近作為衡量，最常見還是使用歐氏距離（Euclidean distance）***\n"
   ]
  },
  {
   "cell_type": "code",
   "execution_count": null,
   "metadata": {},
   "outputs": [],
   "source": []
  }
 ],
 "metadata": {
  "kernelspec": {
   "display_name": "Python 3",
   "language": "python",
   "name": "python3"
  },
  "language_info": {
   "codemirror_mode": {
    "name": "ipython",
    "version": 3
   },
   "file_extension": ".py",
   "mimetype": "text/x-python",
   "name": "python",
   "nbconvert_exporter": "python",
   "pygments_lexer": "ipython3",
   "version": "3.7.3"
  }
 },
 "nbformat": 4,
 "nbformat_minor": 1
}
