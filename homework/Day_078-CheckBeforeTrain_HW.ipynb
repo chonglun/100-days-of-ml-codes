{
 "cells": [
  {
   "cell_type": "markdown",
   "metadata": {},
   "source": [
    "## Work\n",
    "1. 請嘗試將 preproc_x 替換成以每筆資料的 min/max 進行標準化至 -1 ~ 1 間，再進行訓練\n",
    "2. 請嘗試將 mlp 疊更深 (e.g 5~10 層)，進行訓練後觀察 learning curve 的走勢\n",
    "3. (optional) 請改用 GPU 進行訓練 (如果你有 GPU 的話)，比較使用 CPU 與 GPU 的訓練速度"
   ]
  },
  {
   "cell_type": "code",
   "execution_count": 1,
   "metadata": {},
   "outputs": [
    {
     "name": "stderr",
     "output_type": "stream",
     "text": [
      "Using TensorFlow backend.\n"
     ]
    },
    {
     "data": {
      "text/plain": [
       "['/job:localhost/replica:0/task:0/device:GPU:0']"
      ]
     },
     "execution_count": 1,
     "metadata": {},
     "output_type": "execute_result"
    }
   ],
   "source": [
    "# 載入必須使用的 Library\n",
    "import keras\n",
    "from keras.datasets import cifar10\n",
    "from keras.models import Sequential, load_model\n",
    "from keras.layers import Dense, Dropout, Activation, Flatten, BatchNormalization\n",
    "from keras.layers import Conv2D, MaxPooling2D\n",
    "import numpy as np\n",
    "# import os\n",
    "# os.environ['KMP_DUPLICATE_LIB_OK']='True'\n",
    "from keras import backend as K\n",
    "K.tensorflow_backend._get_available_gpus()"
   ]
  },
  {
   "cell_type": "code",
   "execution_count": 2,
   "metadata": {},
   "outputs": [],
   "source": [
    "train, test = keras.datasets.cifar10.load_data()\n",
    "x_train, y_train = train\n",
    "x_test, y_test = test\n",
    "\n",
    "num_classes = len(np.unique(y_train))"
   ]
  },
  {
   "cell_type": "code",
   "execution_count": 3,
   "metadata": {},
   "outputs": [],
   "source": [
    "## 資料前處理\n",
    "def preproc_x(data):\n",
    "    return data.astype('float32') / 255.0\n",
    "\n",
    "def preproc_y(data):\n",
    "    return  keras.utils.to_categorical(data, num_classes)"
   ]
  },
  {
   "cell_type": "code",
   "execution_count": 4,
   "metadata": {},
   "outputs": [],
   "source": [
    "# Preproc the inputs\n",
    "x_train = preproc_x(x_train)\n",
    "x_test = preproc_x(x_test)\n",
    "\n",
    "# Preprc the outputs\n",
    "y_train = preproc_y(y_train)\n",
    "y_test = preproc_y(y_test)\n"
   ]
  },
  {
   "cell_type": "code",
   "execution_count": 5,
   "metadata": {},
   "outputs": [
    {
     "name": "stdout",
     "output_type": "stream",
     "text": [
      "_________________________________________________________________\n",
      "Layer (type)                 Output Shape              Param #   \n",
      "=================================================================\n",
      "conv2d_1 (Conv2D)            (None, 32, 32, 64)        1792      \n",
      "_________________________________________________________________\n",
      "activation_1 (Activation)    (None, 32, 32, 64)        0         \n",
      "_________________________________________________________________\n",
      "batch_normalization_1 (Batch (None, 32, 32, 64)        256       \n",
      "_________________________________________________________________\n",
      "max_pooling2d_1 (MaxPooling2 (None, 10, 10, 64)        0         \n",
      "_________________________________________________________________\n",
      "dropout_1 (Dropout)          (None, 10, 10, 64)        0         \n",
      "_________________________________________________________________\n",
      "conv2d_2 (Conv2D)            (None, 10, 10, 64)        36928     \n",
      "_________________________________________________________________\n",
      "activation_2 (Activation)    (None, 10, 10, 64)        0         \n",
      "_________________________________________________________________\n",
      "batch_normalization_2 (Batch (None, 10, 10, 64)        256       \n",
      "_________________________________________________________________\n",
      "conv2d_3 (Conv2D)            (None, 10, 10, 64)        36928     \n",
      "_________________________________________________________________\n",
      "activation_3 (Activation)    (None, 10, 10, 64)        0         \n",
      "_________________________________________________________________\n",
      "batch_normalization_3 (Batch (None, 10, 10, 64)        256       \n",
      "_________________________________________________________________\n",
      "max_pooling2d_2 (MaxPooling2 (None, 5, 5, 64)          0         \n",
      "_________________________________________________________________\n",
      "dropout_2 (Dropout)          (None, 5, 5, 64)          0         \n",
      "_________________________________________________________________\n",
      "conv2d_4 (Conv2D)            (None, 5, 5, 128)         73856     \n",
      "_________________________________________________________________\n",
      "activation_4 (Activation)    (None, 5, 5, 128)         0         \n",
      "_________________________________________________________________\n",
      "batch_normalization_4 (Batch (None, 5, 5, 128)         512       \n",
      "_________________________________________________________________\n",
      "conv2d_5 (Conv2D)            (None, 5, 5, 128)         147584    \n",
      "_________________________________________________________________\n",
      "activation_5 (Activation)    (None, 5, 5, 128)         0         \n",
      "_________________________________________________________________\n",
      "batch_normalization_5 (Batch (None, 5, 5, 128)         512       \n",
      "_________________________________________________________________\n",
      "max_pooling2d_3 (MaxPooling2 (None, 2, 2, 128)         0         \n",
      "_________________________________________________________________\n",
      "dropout_3 (Dropout)          (None, 2, 2, 128)         0         \n",
      "_________________________________________________________________\n",
      "flatten_1 (Flatten)          (None, 512)               0         \n",
      "_________________________________________________________________\n",
      "dense_1 (Dense)              (None, 1024)              525312    \n",
      "_________________________________________________________________\n",
      "activation_6 (Activation)    (None, 1024)              0         \n",
      "_________________________________________________________________\n",
      "batch_normalization_6 (Batch (None, 1024)              4096      \n",
      "_________________________________________________________________\n",
      "dropout_4 (Dropout)          (None, 1024)              0         \n",
      "_________________________________________________________________\n",
      "dense_2 (Dense)              (None, 10)                10250     \n",
      "=================================================================\n",
      "Total params: 838,538\n",
      "Trainable params: 835,594\n",
      "Non-trainable params: 2,944\n",
      "_________________________________________________________________\n",
      "None\n"
     ]
    }
   ],
   "source": [
    "## 建立你的神經網路\n",
    "def build_mlp():\n",
    "    # build our CNN model, 多加幾層\n",
    "    model = Sequential()\n",
    "    model.add(Conv2D(64, (3, 3), padding='same', input_shape=x_train.shape[1:]))\n",
    "    model.add(Activation(\"relu\"))\n",
    "    model.add(BatchNormalization())\n",
    "    model.add(MaxPooling2D(pool_size=(3, 3)))\n",
    "    model.add(Dropout(0.25))\n",
    "    model.add(Conv2D(64, (3, 3), padding=\"same\"))\n",
    "    model.add(Activation(\"relu\"))\n",
    "    model.add(BatchNormalization())\n",
    "    model.add(Conv2D(64, (3, 3), padding=\"same\"))\n",
    "    model.add(Activation(\"relu\"))\n",
    "    model.add(BatchNormalization())\n",
    "    model.add(MaxPooling2D(pool_size=(2, 2)))\n",
    "    model.add(Dropout(0.25))\n",
    "    # (CONV => RELU) * 2 => POOL\n",
    "    model.add(Conv2D(128, (3, 3), padding=\"same\"))\n",
    "    model.add(Activation(\"relu\"))\n",
    "    model.add(BatchNormalization())\n",
    "    model.add(Conv2D(128, (3, 3), padding=\"same\"))\n",
    "    model.add(Activation(\"relu\"))\n",
    "    model.add(BatchNormalization())\n",
    "    model.add(MaxPooling2D(pool_size=(2, 2)))\n",
    "    model.add(Dropout(0.25))\n",
    "    # first (and only) set of FC => RELU layers\n",
    "    model.add(Flatten())\n",
    "    model.add(Dense(1024))\n",
    "    model.add(Activation(\"relu\"))\n",
    "    model.add(BatchNormalization())\n",
    "    model.add(Dropout(0.5))\n",
    "    model.add(Dense(num_classes, activation='softmax'))\n",
    "    print(model.summary())\n",
    "    return model\n",
    "model = build_mlp()"
   ]
  },
  {
   "cell_type": "code",
   "execution_count": 6,
   "metadata": {},
   "outputs": [],
   "source": [
    "## 超參數設定\n",
    "LEARNING_RATE = 0.001\n",
    "EPOCHS = 100\n",
    "BATCH_SIZE = 256"
   ]
  },
  {
   "cell_type": "code",
   "execution_count": 7,
   "metadata": {},
   "outputs": [],
   "source": [
    "optimizer = keras.optimizers.Adam(lr=LEARNING_RATE)\n",
    "model.compile(loss=\"categorical_crossentropy\", metrics=[\"accuracy\"], optimizer=optimizer)"
   ]
  },
  {
   "cell_type": "code",
   "execution_count": 8,
   "metadata": {},
   "outputs": [
    {
     "name": "stdout",
     "output_type": "stream",
     "text": [
      "Train on 50000 samples, validate on 10000 samples\n",
      "Epoch 1/100\n",
      "50000/50000 [==============================] - 6s 112us/step - loss: 1.9661 - acc: 0.3779 - val_loss: 1.6583 - val_acc: 0.4573\n",
      "\n",
      "Epoch 00001: val_acc improved from -inf to 0.45730, saving model to best_model.h5\n",
      "Epoch 2/100\n",
      "50000/50000 [==============================] - 4s 82us/step - loss: 1.3477 - acc: 0.5269 - val_loss: 1.5618 - val_acc: 0.4749\n",
      "\n",
      "Epoch 00002: val_acc improved from 0.45730 to 0.47490, saving model to best_model.h5\n",
      "Epoch 3/100\n",
      "50000/50000 [==============================] - 4s 75us/step - loss: 1.1413 - acc: 0.5990 - val_loss: 1.2368 - val_acc: 0.5901\n",
      "\n",
      "Epoch 00003: val_acc improved from 0.47490 to 0.59010, saving model to best_model.h5\n",
      "Epoch 4/100\n",
      "50000/50000 [==============================] - 4s 74us/step - loss: 1.0273 - acc: 0.6378 - val_loss: 1.1777 - val_acc: 0.5937\n",
      "\n",
      "Epoch 00004: val_acc improved from 0.59010 to 0.59370, saving model to best_model.h5\n",
      "Epoch 5/100\n",
      "50000/50000 [==============================] - 4s 81us/step - loss: 0.9304 - acc: 0.6724 - val_loss: 0.8886 - val_acc: 0.6937\n",
      "\n",
      "Epoch 00005: val_acc improved from 0.59370 to 0.69370, saving model to best_model.h5\n",
      "Epoch 6/100\n",
      "50000/50000 [==============================] - 4s 80us/step - loss: 0.8610 - acc: 0.6969 - val_loss: 1.0528 - val_acc: 0.6423\n",
      "\n",
      "Epoch 00006: val_acc did not improve from 0.69370\n",
      "Epoch 7/100\n",
      "50000/50000 [==============================] - 4s 75us/step - loss: 0.7939 - acc: 0.7220 - val_loss: 0.8607 - val_acc: 0.7074\n",
      "\n",
      "Epoch 00007: val_acc improved from 0.69370 to 0.70740, saving model to best_model.h5\n",
      "Epoch 8/100\n",
      "50000/50000 [==============================] - 4s 80us/step - loss: 0.7429 - acc: 0.7390 - val_loss: 0.9457 - val_acc: 0.6786\n",
      "\n",
      "Epoch 00008: val_acc did not improve from 0.70740\n",
      "Epoch 9/100\n",
      "50000/50000 [==============================] - 4s 82us/step - loss: 0.7029 - acc: 0.7529 - val_loss: 0.9291 - val_acc: 0.6893\n",
      "\n",
      "Epoch 00009: val_acc did not improve from 0.70740\n",
      "Epoch 10/100\n",
      "50000/50000 [==============================] - 4s 82us/step - loss: 0.6630 - acc: 0.7673 - val_loss: 0.7893 - val_acc: 0.7384\n",
      "\n",
      "Epoch 00010: val_acc improved from 0.70740 to 0.73840, saving model to best_model.h5\n",
      "Epoch 11/100\n",
      "50000/50000 [==============================] - 4s 79us/step - loss: 0.6322 - acc: 0.7790 - val_loss: 0.7589 - val_acc: 0.7497\n",
      "\n",
      "Epoch 00011: val_acc improved from 0.73840 to 0.74970, saving model to best_model.h5\n",
      "Epoch 12/100\n",
      "50000/50000 [==============================] - 4s 81us/step - loss: 0.6035 - acc: 0.7871 - val_loss: 0.9233 - val_acc: 0.7089\n",
      "\n",
      "Epoch 00012: val_acc did not improve from 0.74970\n",
      "Epoch 13/100\n",
      "50000/50000 [==============================] - 4s 82us/step - loss: 0.5742 - acc: 0.7972 - val_loss: 0.6890 - val_acc: 0.7704\n",
      "\n",
      "Epoch 00013: val_acc improved from 0.74970 to 0.77040, saving model to best_model.h5\n",
      "Epoch 14/100\n",
      "50000/50000 [==============================] - 4s 81us/step - loss: 0.5469 - acc: 0.8074 - val_loss: 0.7385 - val_acc: 0.7620\n",
      "\n",
      "Epoch 00014: val_acc did not improve from 0.77040\n",
      "Epoch 15/100\n",
      "50000/50000 [==============================] - 4s 80us/step - loss: 0.5225 - acc: 0.8154 - val_loss: 0.7161 - val_acc: 0.7626\n",
      "\n",
      "Epoch 00015: val_acc did not improve from 0.77040\n",
      "Epoch 16/100\n",
      "50000/50000 [==============================] - 4s 79us/step - loss: 0.5029 - acc: 0.8221 - val_loss: 0.8129 - val_acc: 0.7433\n",
      "\n",
      "Epoch 00016: val_acc did not improve from 0.77040\n",
      "Epoch 00016: early stopping\n"
     ]
    }
   ],
   "source": [
    "from keras.callbacks import EarlyStopping\n",
    "from keras.callbacks import ModelCheckpoint\n",
    "# simple early stopping\n",
    "es = EarlyStopping(monitor='val_loss', mode='min', verbose=1, patience=3)\n",
    "mc = ModelCheckpoint('best_model.h5', monitor='val_acc', mode='max', verbose=1, save_best_only=True)\n",
    "\n",
    "model.compile(loss='categorical_crossentropy', optimizer='adam', metrics=['accuracy'])\n",
    "\n",
    "model_history = model.fit(x=x_train, y=y_train,\n",
    "                                    batch_size=BATCH_SIZE,\n",
    "                                    epochs=EPOCHS, shuffle=True,\n",
    "                                    verbose=1,\n",
    "                                    validation_data=[x_test, y_test],\n",
    "                                    callbacks=[es,mc])\n",
    "\n"
   ]
  },
  {
   "cell_type": "code",
   "execution_count": 10,
   "metadata": {},
   "outputs": [
    {
     "data": {
      "image/png": "[encoded data removed]",
      "text/plain": [
       "<Figure size 432x288 with 1 Axes>"
      ]
     },
     "metadata": {
      "needs_background": "light"
     },
     "output_type": "display_data"
    },
    {
     "data": {
      "image/png": "[encoded data removed]",
      "text/plain": [
       "<Figure size 432x288 with 1 Axes>"
      ]
     },
     "metadata": {
      "needs_background": "light"
     },
     "output_type": "display_data"
    }
   ],
   "source": [
    "import matplotlib.pyplot as plt\n",
    "\n",
    "\n",
    "train_loss = model.history.history[\"loss\"]\n",
    "valid_loss = model.history.history[\"val_loss\"]\n",
    "\n",
    "train_acc = model.history.history[\"acc\"]\n",
    "valid_acc = model.history.history[\"val_acc\"]\n",
    "\n",
    "plt.plot(range(len(train_loss)), train_loss, label=\"train loss\")\n",
    "plt.plot(range(len(valid_loss)), valid_loss, label=\"valid loss\")\n",
    "plt.legend()\n",
    "plt.title(\"Loss\")\n",
    "plt.show()\n",
    "\n",
    "plt.plot(range(len(train_acc)), train_acc, label=\"train accuracy\")\n",
    "plt.plot(range(len(valid_acc)), valid_acc, label=\"valid accuracy\")\n",
    "plt.legend()\n",
    "plt.title(\"Accuracy\")\n",
    "plt.show()"
   ]
  },
  {
   "cell_type": "code",
   "execution_count": null,
   "metadata": {},
   "outputs": [],
   "source": []
  }
 ],
 "metadata": {
  "kernelspec": {
   "display_name": "Python 3",
   "language": "python",
   "name": "python3"
  },
  "language_info": {
   "codemirror_mode": {
    "name": "ipython",
    "version": 3
   },
   "file_extension": ".py",
   "mimetype": "text/x-python",
   "name": "python",
   "nbconvert_exporter": "python",
   "pygments_lexer": "ipython3",
   "version": "3.5.6"
  }
 },
 "nbformat": 4,
 "nbformat_minor": 2
}
