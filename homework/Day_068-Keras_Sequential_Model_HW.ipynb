{
 "cells": [
  {
   "cell_type": "markdown",
   "metadata": {},
   "source": [
    "\n",
    "# 作業目標:\n",
    "    \n",
    "    了解keras 模型架構\n",
    "\n",
    "\n",
    "# 作業重點:\n",
    "    \n",
    "    請修改input shape: (Conv2D(64, (3, 3))的設定, 新增一層 Dense 並觀看 model.summary 的輸出\n"
   ]
  },
  {
   "cell_type": "code",
   "execution_count": 1,
   "metadata": {
    "scrolled": true
   },
   "outputs": [
    {
     "name": "stderr",
     "output_type": "stream",
     "text": [
      "Using TensorFlow backend.\n"
     ]
    },
    {
     "data": {
      "text/plain": [
       "['/job:localhost/replica:0/task:0/device:GPU:0']"
      ]
     },
     "execution_count": 1,
     "metadata": {},
     "output_type": "execute_result"
    }
   ],
   "source": [
    "# 載入必須使用的 Library\n",
    "import keras\n",
    "from keras.datasets import cifar10\n",
    "from keras.models import Sequential, load_model\n",
    "from keras.layers import Dense, Dropout, Activation, Flatten, BatchNormalization\n",
    "from keras.layers import Conv2D, MaxPooling2D\n",
    "import numpy as np\n",
    "# import os\n",
    "# os.environ['KMP_DUPLICATE_LIB_OK']='True'\n",
    "from keras import backend as K\n",
    "K.tensorflow_backend._get_available_gpus()"
   ]
  },
  {
   "cell_type": "code",
   "execution_count": 2,
   "metadata": {},
   "outputs": [
    {
     "name": "stdout",
     "output_type": "stream",
     "text": [
      "x_train shape: (50000, 32, 32, 3)\n",
      "50000 train samples\n",
      "10000 test samples\n",
      "10  labels\n"
     ]
    }
   ],
   "source": [
    "num_classes = 10\n",
    "batch_size = 256\n",
    "epochs = 50\n",
    "\n",
    "# The data, shuffled and split between train and test sets:\n",
    "(x_train, y_train), (x_test, y_test) = cifar10.load_data()\n",
    "print('x_train shape:', x_train.shape)\n",
    "print(x_train.shape[0], 'train samples')\n",
    "print(x_test.shape[0], 'test samples')\n",
    "unique_labels = np.unique(y_train)\n",
    "num_classes = len(unique_labels)\n",
    "print(len(unique_labels), ' labels')\n",
    "\n",
    "# Normlized Inputs\n",
    "x_train = x_train.astype('float32') / 255.0\n",
    "x_test = x_test.astype('float32') / 255.0\n",
    "# Convert class vectors to binary class matrices.\n",
    "y_train = keras.utils.to_categorical(y_train, num_classes)\n",
    "y_test = keras.utils.to_categorical(y_test, num_classes)"
   ]
  },
  {
   "cell_type": "code",
   "execution_count": 3,
   "metadata": {},
   "outputs": [
    {
     "name": "stdout",
     "output_type": "stream",
     "text": [
      "_________________________________________________________________\n",
      "Layer (type)                 Output Shape              Param #   \n",
      "=================================================================\n",
      "conv2d_1 (Conv2D)            (None, 32, 32, 64)        1792      \n",
      "_________________________________________________________________\n",
      "activation_1 (Activation)    (None, 32, 32, 64)        0         \n",
      "_________________________________________________________________\n",
      "batch_normalization_1 (Batch (None, 32, 32, 64)        256       \n",
      "_________________________________________________________________\n",
      "max_pooling2d_1 (MaxPooling2 (None, 10, 10, 64)        0         \n",
      "_________________________________________________________________\n",
      "dropout_1 (Dropout)          (None, 10, 10, 64)        0         \n",
      "_________________________________________________________________\n",
      "conv2d_2 (Conv2D)            (None, 10, 10, 64)        36928     \n",
      "_________________________________________________________________\n",
      "activation_2 (Activation)    (None, 10, 10, 64)        0         \n",
      "_________________________________________________________________\n",
      "batch_normalization_2 (Batch (None, 10, 10, 64)        256       \n",
      "_________________________________________________________________\n",
      "conv2d_3 (Conv2D)            (None, 10, 10, 64)        36928     \n",
      "_________________________________________________________________\n",
      "activation_3 (Activation)    (None, 10, 10, 64)        0         \n",
      "_________________________________________________________________\n",
      "batch_normalization_3 (Batch (None, 10, 10, 64)        256       \n",
      "_________________________________________________________________\n",
      "max_pooling2d_2 (MaxPooling2 (None, 5, 5, 64)          0         \n",
      "_________________________________________________________________\n",
      "dropout_2 (Dropout)          (None, 5, 5, 64)          0         \n",
      "_________________________________________________________________\n",
      "conv2d_4 (Conv2D)            (None, 5, 5, 128)         73856     \n",
      "_________________________________________________________________\n",
      "activation_4 (Activation)    (None, 5, 5, 128)         0         \n",
      "_________________________________________________________________\n",
      "batch_normalization_4 (Batch (None, 5, 5, 128)         512       \n",
      "_________________________________________________________________\n",
      "conv2d_5 (Conv2D)            (None, 5, 5, 128)         147584    \n",
      "_________________________________________________________________\n",
      "activation_5 (Activation)    (None, 5, 5, 128)         0         \n",
      "_________________________________________________________________\n",
      "batch_normalization_5 (Batch (None, 5, 5, 128)         512       \n",
      "_________________________________________________________________\n",
      "max_pooling2d_3 (MaxPooling2 (None, 2, 2, 128)         0         \n",
      "_________________________________________________________________\n",
      "dropout_3 (Dropout)          (None, 2, 2, 128)         0         \n",
      "_________________________________________________________________\n",
      "flatten_1 (Flatten)          (None, 512)               0         \n",
      "_________________________________________________________________\n",
      "dense_1 (Dense)              (None, 1024)              525312    \n",
      "_________________________________________________________________\n",
      "activation_6 (Activation)    (None, 1024)              0         \n",
      "_________________________________________________________________\n",
      "batch_normalization_6 (Batch (None, 1024)              4096      \n",
      "_________________________________________________________________\n",
      "dropout_4 (Dropout)          (None, 1024)              0         \n",
      "_________________________________________________________________\n",
      "dense_2 (Dense)              (None, 10)                10250     \n",
      "=================================================================\n",
      "Total params: 838,538\n",
      "Trainable params: 835,594\n",
      "Non-trainable params: 2,944\n",
      "_________________________________________________________________\n",
      "None\n"
     ]
    }
   ],
   "source": [
    "# build our CNN model, 多加幾層\n",
    "model = Sequential()\n",
    "model.add(Conv2D(64, (3, 3), padding='same', input_shape=x_train.shape[1:]))\n",
    "model.add(Activation(\"relu\"))\n",
    "model.add(BatchNormalization())\n",
    "model.add(MaxPooling2D(pool_size=(3, 3)))\n",
    "model.add(Dropout(0.25))\n",
    "model.add(Conv2D(64, (3, 3), padding=\"same\"))\n",
    "model.add(Activation(\"relu\"))\n",
    "model.add(BatchNormalization())\n",
    "model.add(Conv2D(64, (3, 3), padding=\"same\"))\n",
    "model.add(Activation(\"relu\"))\n",
    "model.add(BatchNormalization())\n",
    "model.add(MaxPooling2D(pool_size=(2, 2)))\n",
    "model.add(Dropout(0.25))\n",
    "# (CONV => RELU) * 2 => POOL\n",
    "model.add(Conv2D(128, (3, 3), padding=\"same\"))\n",
    "model.add(Activation(\"relu\"))\n",
    "model.add(BatchNormalization())\n",
    "model.add(Conv2D(128, (3, 3), padding=\"same\"))\n",
    "model.add(Activation(\"relu\"))\n",
    "model.add(BatchNormalization())\n",
    "model.add(MaxPooling2D(pool_size=(2, 2)))\n",
    "model.add(Dropout(0.25))\n",
    "# first (and only) set of FC => RELU layers\n",
    "model.add(Flatten())\n",
    "model.add(Dense(1024))\n",
    "model.add(Activation(\"relu\"))\n",
    "model.add(BatchNormalization())\n",
    "model.add(Dropout(0.5))\n",
    "model.add(Dense(num_classes, activation='softmax'))\n",
    "print(model.summary())"
   ]
  },
  {
   "cell_type": "code",
   "execution_count": 4,
   "metadata": {},
   "outputs": [
    {
     "name": "stdout",
     "output_type": "stream",
     "text": [
      "Train on 50000 samples, validate on 10000 samples\n",
      "Epoch 1/50\n",
      "50000/50000 [==============================] - 6s 112us/step - loss: 1.9526 - acc: 0.3838 - val_loss: 1.7411 - val_acc: 0.4375\n",
      "\n",
      "Epoch 00001: val_acc improved from -inf to 0.43750, saving model to best_model.h5\n",
      "Epoch 2/50\n",
      "50000/50000 [==============================] - 4s 86us/step - loss: 1.3411 - acc: 0.5309 - val_loss: 1.3489 - val_acc: 0.5247\n",
      "\n",
      "Epoch 00002: val_acc improved from 0.43750 to 0.52470, saving model to best_model.h5\n",
      "Epoch 3/50\n",
      "50000/50000 [==============================] - 4s 74us/step - loss: 1.1191 - acc: 0.6037 - val_loss: 1.3465 - val_acc: 0.5441\n",
      "\n",
      "Epoch 00003: val_acc improved from 0.52470 to 0.54410, saving model to best_model.h5\n",
      "Epoch 4/50\n",
      "50000/50000 [==============================] - 4s 80us/step - loss: 0.9959 - acc: 0.6455 - val_loss: 0.9796 - val_acc: 0.6526\n",
      "\n",
      "Epoch 00004: val_acc improved from 0.54410 to 0.65260, saving model to best_model.h5\n",
      "Epoch 5/50\n",
      "50000/50000 [==============================] - 4s 76us/step - loss: 0.9044 - acc: 0.6795 - val_loss: 0.8769 - val_acc: 0.7021\n",
      "\n",
      "Epoch 00005: val_acc improved from 0.65260 to 0.70210, saving model to best_model.h5\n",
      "Epoch 6/50\n",
      "50000/50000 [==============================] - 4s 76us/step - loss: 0.8304 - acc: 0.7055 - val_loss: 0.9294 - val_acc: 0.6807\n",
      "\n",
      "Epoch 00006: val_acc did not improve from 0.70210\n",
      "Epoch 7/50\n",
      "50000/50000 [==============================] - 4s 82us/step - loss: 0.7808 - acc: 0.7250 - val_loss: 0.8731 - val_acc: 0.7023\n",
      "\n",
      "Epoch 00007: val_acc improved from 0.70210 to 0.70230, saving model to best_model.h5\n",
      "Epoch 8/50\n",
      "50000/50000 [==============================] - 4s 77us/step - loss: 0.7311 - acc: 0.7427 - val_loss: 1.8020 - val_acc: 0.4788\n",
      "\n",
      "Epoch 00008: val_acc did not improve from 0.70230\n",
      "Epoch 9/50\n",
      "50000/50000 [==============================] - 4s 80us/step - loss: 0.6897 - acc: 0.7575 - val_loss: 0.8289 - val_acc: 0.7139\n",
      "\n",
      "Epoch 00009: val_acc improved from 0.70230 to 0.71390, saving model to best_model.h5\n",
      "Epoch 10/50\n",
      "50000/50000 [==============================] - 4s 78us/step - loss: 0.6531 - acc: 0.7704 - val_loss: 0.8489 - val_acc: 0.7065\n",
      "\n",
      "Epoch 00010: val_acc did not improve from 0.71390\n",
      "Epoch 11/50\n",
      "50000/50000 [==============================] - 4s 79us/step - loss: 0.6189 - acc: 0.7802 - val_loss: 1.0071 - val_acc: 0.6792\n",
      "\n",
      "Epoch 00011: val_acc did not improve from 0.71390\n",
      "Epoch 12/50\n",
      "50000/50000 [==============================] - 4s 81us/step - loss: 0.5908 - acc: 0.7917 - val_loss: 0.7519 - val_acc: 0.7463\n",
      "\n",
      "Epoch 00012: val_acc improved from 0.71390 to 0.74630, saving model to best_model.h5\n",
      "Epoch 13/50\n",
      "50000/50000 [==============================] - 4s 78us/step - loss: 0.5675 - acc: 0.8004 - val_loss: 0.7115 - val_acc: 0.7647\n",
      "\n",
      "Epoch 00013: val_acc improved from 0.74630 to 0.76470, saving model to best_model.h5\n",
      "Epoch 14/50\n",
      "50000/50000 [==============================] - 4s 76us/step - loss: 0.5433 - acc: 0.8092 - val_loss: 0.6425 - val_acc: 0.7885\n",
      "\n",
      "Epoch 00014: val_acc improved from 0.76470 to 0.78850, saving model to best_model.h5\n",
      "Epoch 15/50\n",
      "50000/50000 [==============================] - 4s 84us/step - loss: 0.5191 - acc: 0.8174 - val_loss: 0.6822 - val_acc: 0.7711\n",
      "\n",
      "Epoch 00015: val_acc did not improve from 0.78850\n",
      "Epoch 16/50\n",
      "50000/50000 [==============================] - 4s 86us/step - loss: 0.4978 - acc: 0.8247 - val_loss: 0.9159 - val_acc: 0.7009\n",
      "\n",
      "Epoch 00016: val_acc did not improve from 0.78850\n",
      "Epoch 17/50\n",
      "50000/50000 [==============================] - 4s 85us/step - loss: 0.4788 - acc: 0.8290 - val_loss: 0.6701 - val_acc: 0.7872\n",
      "\n",
      "Epoch 00017: val_acc did not improve from 0.78850\n",
      "Epoch 00017: early stopping\n"
     ]
    }
   ],
   "source": [
    "from keras.callbacks import EarlyStopping\n",
    "from keras.callbacks import ModelCheckpoint\n",
    "# simple early stopping\n",
    "es = EarlyStopping(monitor='val_loss', mode='min', verbose=1, patience=3)\n",
    "mc = ModelCheckpoint('best_model.h5', monitor='val_acc', mode='max', verbose=1, save_best_only=True)\n",
    "\n",
    "model.compile(loss='categorical_crossentropy', optimizer='adam', metrics=['accuracy'])\n",
    "\n",
    "model_history = model.fit(x=x_train, y=y_train,\n",
    "                                    batch_size=batch_size,\n",
    "                                    epochs=epochs, shuffle=True,\n",
    "                                    verbose=1,\n",
    "                                    validation_data=[x_test, y_test],\n",
    "                                    callbacks=[es,mc])\n"
   ]
  },
  {
   "cell_type": "code",
   "execution_count": null,
   "metadata": {},
   "outputs": [],
   "source": []
  }
 ],
 "metadata": {
  "kernelspec": {
   "display_name": "Python 3",
   "language": "python",
   "name": "python3"
  },
  "language_info": {
   "codemirror_mode": {
    "name": "ipython",
    "version": 3
   },
   "file_extension": ".py",
   "mimetype": "text/x-python",
   "name": "python",
   "nbconvert_exporter": "python",
   "pygments_lexer": "ipython3",
   "version": "3.5.6"
  }
 },
 "nbformat": 4,
 "nbformat_minor": 2
}
